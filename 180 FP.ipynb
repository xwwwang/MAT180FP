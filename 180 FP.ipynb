{
 "cells": [
  {
   "cell_type": "code",
   "execution_count": 1,
   "metadata": {},
   "outputs": [],
   "source": [
    "\n",
    "from progressbar import ProgressBar\n",
    "pbar = ProgressBar()"
   ]
  },
  {
   "cell_type": "code",
   "execution_count": 2,
   "metadata": {},
   "outputs": [],
   "source": [
    "from english_words import english_words_lower_set"
   ]
  },
  {
   "cell_type": "code",
   "execution_count": 3,
   "metadata": {},
   "outputs": [
    {
     "data": {
      "text/plain": [
       "3210"
      ]
     },
     "execution_count": 3,
     "metadata": {},
     "output_type": "execute_result"
    }
   ],
   "source": [
    "a=english_words_lower_set\n",
    "Bank=[]\n",
    "for i in range(len(list(a))):\n",
    "    word= list(a)[i]\n",
    "    if len(word)==5:\n",
    "        Bank.append(word)\n",
    "len(Bank)"
   ]
  },
  {
   "cell_type": "code",
   "execution_count": 4,
   "metadata": {},
   "outputs": [],
   "source": [
    "import string\n",
    "alphabet_string = string.ascii_lowercase\n",
    "alphabet_list = list(alphabet_string)\n",
    "import pandas as pd\n",
    "  \n",
    "# initialize data of lists.\n",
    "data = {'count':[0] * 26}\n",
    "  \n",
    "# Creates pandas DataFrame.\n",
    "df = pd.DataFrame(data, index=alphabet_list)\n"
   ]
  },
  {
   "cell_type": "markdown",
   "metadata": {},
   "source": [
    "Weighted Approach"
   ]
  },
  {
   "cell_type": "code",
   "execution_count": 5,
   "metadata": {},
   "outputs": [
    {
     "data": {
      "text/html": [
       "<div>\n",
       "<style scoped>\n",
       "    .dataframe tbody tr th:only-of-type {\n",
       "        vertical-align: middle;\n",
       "    }\n",
       "\n",
       "    .dataframe tbody tr th {\n",
       "        vertical-align: top;\n",
       "    }\n",
       "\n",
       "    .dataframe thead th {\n",
       "        text-align: right;\n",
       "    }\n",
       "</style>\n",
       "<table border=\"1\" class=\"dataframe\">\n",
       "  <thead>\n",
       "    <tr style=\"text-align: right;\">\n",
       "      <th></th>\n",
       "      <th>count</th>\n",
       "    </tr>\n",
       "  </thead>\n",
       "  <tbody>\n",
       "    <tr>\n",
       "      <th>a</th>\n",
       "      <td>1396</td>\n",
       "    </tr>\n",
       "    <tr>\n",
       "      <th>b</th>\n",
       "      <td>398</td>\n",
       "    </tr>\n",
       "    <tr>\n",
       "      <th>c</th>\n",
       "      <td>616</td>\n",
       "    </tr>\n",
       "    <tr>\n",
       "      <th>d</th>\n",
       "      <td>491</td>\n",
       "    </tr>\n",
       "    <tr>\n",
       "      <th>e</th>\n",
       "      <td>1431</td>\n",
       "    </tr>\n",
       "    <tr>\n",
       "      <th>f</th>\n",
       "      <td>241</td>\n",
       "    </tr>\n",
       "    <tr>\n",
       "      <th>g</th>\n",
       "      <td>391</td>\n",
       "    </tr>\n",
       "    <tr>\n",
       "      <th>h</th>\n",
       "      <td>523</td>\n",
       "    </tr>\n",
       "    <tr>\n",
       "      <th>i</th>\n",
       "      <td>908</td>\n",
       "    </tr>\n",
       "    <tr>\n",
       "      <th>j</th>\n",
       "      <td>58</td>\n",
       "    </tr>\n",
       "    <tr>\n",
       "      <th>k</th>\n",
       "      <td>285</td>\n",
       "    </tr>\n",
       "    <tr>\n",
       "      <th>l</th>\n",
       "      <td>900</td>\n",
       "    </tr>\n",
       "    <tr>\n",
       "      <th>m</th>\n",
       "      <td>440</td>\n",
       "    </tr>\n",
       "    <tr>\n",
       "      <th>n</th>\n",
       "      <td>818</td>\n",
       "    </tr>\n",
       "    <tr>\n",
       "      <th>o</th>\n",
       "      <td>947</td>\n",
       "    </tr>\n",
       "    <tr>\n",
       "      <th>p</th>\n",
       "      <td>436</td>\n",
       "    </tr>\n",
       "    <tr>\n",
       "      <th>q</th>\n",
       "      <td>38</td>\n",
       "    </tr>\n",
       "    <tr>\n",
       "      <th>r</th>\n",
       "      <td>1071</td>\n",
       "    </tr>\n",
       "    <tr>\n",
       "      <th>s</th>\n",
       "      <td>879</td>\n",
       "    </tr>\n",
       "    <tr>\n",
       "      <th>t</th>\n",
       "      <td>868</td>\n",
       "    </tr>\n",
       "    <tr>\n",
       "      <th>u</th>\n",
       "      <td>601</td>\n",
       "    </tr>\n",
       "    <tr>\n",
       "      <th>v</th>\n",
       "      <td>189</td>\n",
       "    </tr>\n",
       "    <tr>\n",
       "      <th>w</th>\n",
       "      <td>231</td>\n",
       "    </tr>\n",
       "    <tr>\n",
       "      <th>x</th>\n",
       "      <td>65</td>\n",
       "    </tr>\n",
       "    <tr>\n",
       "      <th>y</th>\n",
       "      <td>580</td>\n",
       "    </tr>\n",
       "    <tr>\n",
       "      <th>z</th>\n",
       "      <td>64</td>\n",
       "    </tr>\n",
       "  </tbody>\n",
       "</table>\n",
       "</div>"
      ],
      "text/plain": [
       "   count\n",
       "a   1396\n",
       "b    398\n",
       "c    616\n",
       "d    491\n",
       "e   1431\n",
       "f    241\n",
       "g    391\n",
       "h    523\n",
       "i    908\n",
       "j     58\n",
       "k    285\n",
       "l    900\n",
       "m    440\n",
       "n    818\n",
       "o    947\n",
       "p    436\n",
       "q     38\n",
       "r   1071\n",
       "s    879\n",
       "t    868\n",
       "u    601\n",
       "v    189\n",
       "w    231\n",
       "x     65\n",
       "y    580\n",
       "z     64"
      ]
     },
     "execution_count": 5,
     "metadata": {},
     "output_type": "execute_result"
    }
   ],
   "source": [
    "\n",
    "for i in range(len(Bank)):\n",
    "    for k in range(len(alphabet_list)):\n",
    "        if Bank[i].find(alphabet_list[k])!=-1:\n",
    "            df.iloc[k]+=1\n",
    "df"
   ]
  },
  {
   "cell_type": "code",
   "execution_count": 6,
   "metadata": {},
   "outputs": [
    {
     "data": {
      "text/html": [
       "<div>\n",
       "<style scoped>\n",
       "    .dataframe tbody tr th:only-of-type {\n",
       "        vertical-align: middle;\n",
       "    }\n",
       "\n",
       "    .dataframe tbody tr th {\n",
       "        vertical-align: top;\n",
       "    }\n",
       "\n",
       "    .dataframe thead th {\n",
       "        text-align: right;\n",
       "    }\n",
       "</style>\n",
       "<table border=\"1\" class=\"dataframe\">\n",
       "  <thead>\n",
       "    <tr style=\"text-align: right;\">\n",
       "      <th></th>\n",
       "      <th>weight</th>\n",
       "    </tr>\n",
       "  </thead>\n",
       "  <tbody>\n",
       "    <tr>\n",
       "      <th>taste</th>\n",
       "      <td>4574</td>\n",
       "    </tr>\n",
       "    <tr>\n",
       "      <th>fermi</th>\n",
       "      <td>4091</td>\n",
       "    </tr>\n",
       "    <tr>\n",
       "      <th>amigo</th>\n",
       "      <td>4082</td>\n",
       "    </tr>\n",
       "    <tr>\n",
       "      <th>gulch</th>\n",
       "      <td>3031</td>\n",
       "    </tr>\n",
       "    <tr>\n",
       "      <th>skirt</th>\n",
       "      <td>4011</td>\n",
       "    </tr>\n",
       "    <tr>\n",
       "      <th>...</th>\n",
       "      <td>...</td>\n",
       "    </tr>\n",
       "    <tr>\n",
       "      <th>pupae</th>\n",
       "      <td>3864</td>\n",
       "    </tr>\n",
       "    <tr>\n",
       "      <th>servo</th>\n",
       "      <td>4517</td>\n",
       "    </tr>\n",
       "    <tr>\n",
       "      <th>gruff</th>\n",
       "      <td>2304</td>\n",
       "    </tr>\n",
       "    <tr>\n",
       "      <th>croix</th>\n",
       "      <td>3607</td>\n",
       "    </tr>\n",
       "    <tr>\n",
       "      <th>donna</th>\n",
       "      <td>3652</td>\n",
       "    </tr>\n",
       "  </tbody>\n",
       "</table>\n",
       "<p>3210 rows × 1 columns</p>\n",
       "</div>"
      ],
      "text/plain": [
       "       weight\n",
       "taste    4574\n",
       "fermi    4091\n",
       "amigo    4082\n",
       "gulch    3031\n",
       "skirt    4011\n",
       "...       ...\n",
       "pupae    3864\n",
       "servo    4517\n",
       "gruff    2304\n",
       "croix    3607\n",
       "donna    3652\n",
       "\n",
       "[3210 rows x 1 columns]"
      ]
     },
     "execution_count": 6,
     "metadata": {},
     "output_type": "execute_result"
    }
   ],
   "source": [
    "data1 = {'weight':[0]*len(Bank)}\n",
    "  \n",
    "# Creates pandas DataFrame.\n",
    "dffweight = pd.DataFrame(data1, index=Bank)\n",
    "for i in range(len(Bank)):\n",
    "        for k in range(len(alphabet_list)):\n",
    "            if Bank[i].find(alphabet_list[k])!=-1:\n",
    "                dffweight.iloc[i]+=df.iloc[k][0]\n",
    "dffweight"
   ]
  },
  {
   "cell_type": "code",
   "execution_count": 7,
   "metadata": {},
   "outputs": [
    {
     "data": {
      "text/plain": [
       "'arose'"
      ]
     },
     "execution_count": 7,
     "metadata": {},
     "output_type": "execute_result"
    }
   ],
   "source": [
    "dffweight['weight'].idxmax()"
   ]
  },
  {
   "cell_type": "code",
   "execution_count": 8,
   "metadata": {},
   "outputs": [
    {
     "data": {
      "text/plain": [
       "5724"
      ]
     },
     "execution_count": 8,
     "metadata": {},
     "output_type": "execute_result"
    }
   ],
   "source": [
    "dffweight['weight'].max()"
   ]
  },
  {
   "cell_type": "markdown",
   "metadata": {},
   "source": [
    "Minimizing unselected approach"
   ]
  },
  {
   "cell_type": "code",
   "execution_count": 9,
   "metadata": {},
   "outputs": [
    {
     "data": {
      "text/html": [
       "<div>\n",
       "<style scoped>\n",
       "    .dataframe tbody tr th:only-of-type {\n",
       "        vertical-align: middle;\n",
       "    }\n",
       "\n",
       "    .dataframe tbody tr th {\n",
       "        vertical-align: top;\n",
       "    }\n",
       "\n",
       "    .dataframe thead th {\n",
       "        text-align: right;\n",
       "    }\n",
       "</style>\n",
       "<table border=\"1\" class=\"dataframe\">\n",
       "  <thead>\n",
       "    <tr style=\"text-align: right;\">\n",
       "      <th></th>\n",
       "      <th>weight</th>\n",
       "    </tr>\n",
       "  </thead>\n",
       "  <tbody>\n",
       "    <tr>\n",
       "      <th>taste</th>\n",
       "      <td>425</td>\n",
       "    </tr>\n",
       "    <tr>\n",
       "      <th>fermi</th>\n",
       "      <td>572</td>\n",
       "    </tr>\n",
       "    <tr>\n",
       "      <th>amigo</th>\n",
       "      <td>456</td>\n",
       "    </tr>\n",
       "    <tr>\n",
       "      <th>gulch</th>\n",
       "      <td>1032</td>\n",
       "    </tr>\n",
       "    <tr>\n",
       "      <th>skirt</th>\n",
       "      <td>650</td>\n",
       "    </tr>\n",
       "    <tr>\n",
       "      <th>...</th>\n",
       "      <td>...</td>\n",
       "    </tr>\n",
       "    <tr>\n",
       "      <th>pupae</th>\n",
       "      <td>477</td>\n",
       "    </tr>\n",
       "    <tr>\n",
       "      <th>servo</th>\n",
       "      <td>474</td>\n",
       "    </tr>\n",
       "    <tr>\n",
       "      <th>gruff</th>\n",
       "      <td>1403</td>\n",
       "    </tr>\n",
       "    <tr>\n",
       "      <th>croix</th>\n",
       "      <td>745</td>\n",
       "    </tr>\n",
       "    <tr>\n",
       "      <th>donna</th>\n",
       "      <td>717</td>\n",
       "    </tr>\n",
       "  </tbody>\n",
       "</table>\n",
       "<p>3210 rows × 1 columns</p>\n",
       "</div>"
      ],
      "text/plain": [
       "       weight\n",
       "taste     425\n",
       "fermi     572\n",
       "amigo     456\n",
       "gulch    1032\n",
       "skirt     650\n",
       "...       ...\n",
       "pupae     477\n",
       "servo     474\n",
       "gruff    1403\n",
       "croix     745\n",
       "donna     717\n",
       "\n",
       "[3210 rows x 1 columns]"
      ]
     },
     "execution_count": 9,
     "metadata": {},
     "output_type": "execute_result"
    }
   ],
   "source": [
    "data1 = {'weight':[0]*len(Bank)}\n",
    "  \n",
    "# Creates pandas DataFrame.\n",
    "dffweight1 = pd.DataFrame(data1, index=Bank)\n",
    "for i in range(len(Bank)):\n",
    "    temp=list(Bank[i])\n",
    "    Bank1=Bank\n",
    "    for k in range(5):\n",
    "        iterator = filter(lambda x: x.find(temp[k])==-1, Bank1)\n",
    "        Bank1=list(iterator)\n",
    "    dffweight1.iloc[i]=len(Bank1)\n",
    "dffweight1"
   ]
  },
  {
   "cell_type": "code",
   "execution_count": 10,
   "metadata": {},
   "outputs": [
    {
     "data": {
      "text/plain": [
       "'aries'"
      ]
     },
     "execution_count": 10,
     "metadata": {},
     "output_type": "execute_result"
    }
   ],
   "source": [
    "dffweight1['weight'].idxmin()"
   ]
  },
  {
   "cell_type": "code",
   "execution_count": 11,
   "metadata": {},
   "outputs": [
    {
     "data": {
      "text/plain": [
       "207"
      ]
     },
     "execution_count": 11,
     "metadata": {},
     "output_type": "execute_result"
    }
   ],
   "source": [
    "dffweight1['weight'].min()"
   ]
  },
  {
   "cell_type": "code",
   "execution_count": 12,
   "metadata": {},
   "outputs": [
    {
     "data": {
      "text/plain": [
       "weight    214\n",
       "Name: arose, dtype: int64"
      ]
     },
     "execution_count": 12,
     "metadata": {},
     "output_type": "execute_result"
    }
   ],
   "source": [
    "dffweight1.loc['arose',]"
   ]
  },
  {
   "cell_type": "markdown",
   "metadata": {},
   "source": [
    "Entropy Approach"
   ]
  },
  {
   "cell_type": "code",
   "execution_count": 13,
   "metadata": {},
   "outputs": [],
   "source": [
    "import collections\n",
    "def compare(guess, true):\n",
    "    letter_info=collections.Counter(true)\n",
    "    A=\"\"\n",
    "    string=A.zfill(5)\n",
    "    for i in range(5):\n",
    "        if guess[i]==true[i]:\n",
    "            new = list(string)\n",
    "            new[i] = 'G'\n",
    "            string=''.join(new)\n",
    "            letter_info[guess[i]]-=1\n",
    "    for i in range(5):\n",
    "        if true.find(guess[i])!=-1 and string[i]!='G'and letter_info[guess[i]]!=0:\n",
    "            new = list(string)\n",
    "            new[i] = 'Y'\n",
    "            string=''.join(new)\n",
    "            letter_info[guess[i]]-=1\n",
    "    return(string)\n",
    "        \n",
    "        "
   ]
  },
  {
   "cell_type": "code",
   "execution_count": 14,
   "metadata": {},
   "outputs": [
    {
     "data": {
      "text/plain": [
       "'YYG00'"
      ]
     },
     "execution_count": 14,
     "metadata": {},
     "output_type": "execute_result"
    }
   ],
   "source": [
    "compare('apple', 'happy')"
   ]
  },
  {
   "cell_type": "code",
   "execution_count": 15,
   "metadata": {},
   "outputs": [],
   "source": [
    "import math\n",
    "def entropy(word, X):\n",
    "    entropy = {'Entropy':[0]*len(X)}\n",
    "    dfentropy = pd.DataFrame(entropy, index=X)\n",
    "    for i in range(len(X)):\n",
    "        dfentropy.iloc[i]=compare(word, X[i])\n",
    "    occurance=dfentropy['Entropy'].value_counts()\n",
    "    Entropy=0\n",
    "    for i in range(len(occurance)):\n",
    "        Entropy+=(occurance[i]/len(X))*math.log(len(X)/occurance[i],2)\n",
    "    return(Entropy)\n",
    "        "
   ]
  },
  {
   "cell_type": "code",
   "execution_count": 16,
   "metadata": {},
   "outputs": [
    {
     "data": {
      "text/plain": [
       "5.823276171902227"
      ]
     },
     "execution_count": 16,
     "metadata": {},
     "output_type": "execute_result"
    }
   ],
   "source": [
    "entropy('arose', Bank)"
   ]
  },
  {
   "cell_type": "code",
   "execution_count": 17,
   "metadata": {},
   "outputs": [
    {
     "data": {
      "text/html": [
       "<div>\n",
       "<style scoped>\n",
       "    .dataframe tbody tr th:only-of-type {\n",
       "        vertical-align: middle;\n",
       "    }\n",
       "\n",
       "    .dataframe tbody tr th {\n",
       "        vertical-align: top;\n",
       "    }\n",
       "\n",
       "    .dataframe thead th {\n",
       "        text-align: right;\n",
       "    }\n",
       "</style>\n",
       "<table border=\"1\" class=\"dataframe\">\n",
       "  <thead>\n",
       "    <tr style=\"text-align: right;\">\n",
       "      <th></th>\n",
       "      <th>weight</th>\n",
       "    </tr>\n",
       "  </thead>\n",
       "  <tbody>\n",
       "    <tr>\n",
       "      <th>taste</th>\n",
       "      <td>5.045030</td>\n",
       "    </tr>\n",
       "    <tr>\n",
       "      <th>fermi</th>\n",
       "      <td>4.544779</td>\n",
       "    </tr>\n",
       "    <tr>\n",
       "      <th>amigo</th>\n",
       "      <td>4.500944</td>\n",
       "    </tr>\n",
       "    <tr>\n",
       "      <th>gulch</th>\n",
       "      <td>4.139811</td>\n",
       "    </tr>\n",
       "    <tr>\n",
       "      <th>skirt</th>\n",
       "      <td>4.856277</td>\n",
       "    </tr>\n",
       "    <tr>\n",
       "      <th>...</th>\n",
       "      <td>...</td>\n",
       "    </tr>\n",
       "    <tr>\n",
       "      <th>pupae</th>\n",
       "      <td>4.267272</td>\n",
       "    </tr>\n",
       "    <tr>\n",
       "      <th>servo</th>\n",
       "      <td>4.938831</td>\n",
       "    </tr>\n",
       "    <tr>\n",
       "      <th>gruff</th>\n",
       "      <td>3.171073</td>\n",
       "    </tr>\n",
       "    <tr>\n",
       "      <th>croix</th>\n",
       "      <td>4.404978</td>\n",
       "    </tr>\n",
       "    <tr>\n",
       "      <th>donna</th>\n",
       "      <td>4.356103</td>\n",
       "    </tr>\n",
       "  </tbody>\n",
       "</table>\n",
       "<p>3210 rows × 1 columns</p>\n",
       "</div>"
      ],
      "text/plain": [
       "         weight\n",
       "taste  5.045030\n",
       "fermi  4.544779\n",
       "amigo  4.500944\n",
       "gulch  4.139811\n",
       "skirt  4.856277\n",
       "...         ...\n",
       "pupae  4.267272\n",
       "servo  4.938831\n",
       "gruff  3.171073\n",
       "croix  4.404978\n",
       "donna  4.356103\n",
       "\n",
       "[3210 rows x 1 columns]"
      ]
     },
     "execution_count": 17,
     "metadata": {},
     "output_type": "execute_result"
    }
   ],
   "source": [
    "\n",
    "dffentropy = pd.DataFrame(data1, index=Bank)\n",
    "\n",
    "for i in range(len(Bank)):\n",
    "    dffentropy.iloc[i]=entropy(Bank[i], Bank)\n",
    "dffentropy"
   ]
  },
  {
   "cell_type": "code",
   "execution_count": 18,
   "metadata": {},
   "outputs": [
    {
     "data": {
      "text/plain": [
       "'slate'"
      ]
     },
     "execution_count": 18,
     "metadata": {},
     "output_type": "execute_result"
    }
   ],
   "source": [
    "dffentropy['weight'].idxmax()"
   ]
  },
  {
   "cell_type": "code",
   "execution_count": 19,
   "metadata": {},
   "outputs": [
    {
     "data": {
      "text/plain": [
       "5.904919885590502"
      ]
     },
     "execution_count": 19,
     "metadata": {},
     "output_type": "execute_result"
    }
   ],
   "source": [
    "dffentropy['weight'].max()"
   ]
  },
  {
   "cell_type": "code",
   "execution_count": 20,
   "metadata": {},
   "outputs": [
    {
     "data": {
      "text/plain": [
       "weight    5474\n",
       "Name: slate, dtype: int64"
      ]
     },
     "execution_count": 20,
     "metadata": {},
     "output_type": "execute_result"
    }
   ],
   "source": [
    "dffweight.loc['slate',]"
   ]
  },
  {
   "cell_type": "markdown",
   "metadata": {},
   "source": [
    "Play Wordle"
   ]
  },
  {
   "cell_type": "code",
   "execution_count": 21,
   "metadata": {},
   "outputs": [],
   "source": [
    "def play_wordle(guess, true, Bank, Y=False): #Bank1 is the possible output, Bank2 is the possible guess\n",
    "    k=1\n",
    "    Bank1=Bank\n",
    "    Bank2=Bank\n",
    "    while guess != true:\n",
    "        k+=1\n",
    "        a=compare(guess, true)\n",
    "        if guess in Bank1:\n",
    "            Bank1.remove(guess)\n",
    "        for i in range(5):\n",
    "            if a[i]=='G':\n",
    "                iterator = filter(lambda x: x[i]==guess[i], Bank1)\n",
    "                Bank1=list(iterator)\n",
    "            elif a[i]=='Y':\n",
    "                iterator = filter(lambda x: x[i]!=guess[i], Bank1)\n",
    "                Bank1=list(iterator)\n",
    "                iterator = filter(lambda x: x.find(guess[i])!=-1, Bank1)\n",
    "                Bank1=list(iterator)\n",
    "            else:\n",
    "                letter_info=collections.Counter(guess)\n",
    "                if letter_info[guess[i]]==1: #interesting bug#1 fixed\n",
    "                    iterator = filter(lambda x: x.find(guess[i])==-1, Bank1)\n",
    "                    Bank1=list(iterator)\n",
    "        if guess in Bank2:#interesting Bug #2, fixed\n",
    "            Bank2.remove(guess)\n",
    "        for i in range(5):\n",
    "            if true.find(guess[i])==-1:\n",
    "                iterator = filter(lambda x: x.find(guess[i])==-1, Bank2)\n",
    "                Bank2=list(iterator)\n",
    "        data1 = {'weight':[0]*len(Bank2)}\n",
    "        dffentropy = pd.DataFrame(data1, index=Bank2)\n",
    "        for i in range(len(Bank2)):\n",
    "            dffentropy.iloc[i]=entropy(Bank2[i], Bank2)\n",
    "        if len(Bank1)<=2:\n",
    "            guess=Bank1[0]\n",
    "        else:\n",
    "            guess=dffentropy['weight'].idxmax()\n",
    "        if Y==True:\n",
    "            print(guess)\n",
    "    return(k)\n",
    "        \n",
    "        "
   ]
  },
  {
   "cell_type": "code",
   "execution_count": 22,
   "metadata": {},
   "outputs": [
    {
     "name": "stdout",
     "output_type": "stream",
     "text": [
      "siren\n",
      "store\n",
      "terse\n",
      "ceres\n",
      "brest\n"
     ]
    },
    {
     "data": {
      "text/plain": [
       "6"
      ]
     },
     "execution_count": 22,
     "metadata": {},
     "output_type": "execute_result"
    }
   ],
   "source": [
    "play_wordle('slate', 'brest', Bank, Y=True)"
   ]
  },
  {
   "cell_type": "code",
   "execution_count": 23,
   "metadata": {},
   "outputs": [
    {
     "data": {
      "text/plain": [
       "['april',\n",
       " 'vitro',\n",
       " 'filmy',\n",
       " 'beman',\n",
       " 'quart',\n",
       " 'mouth',\n",
       " 'lycee',\n",
       " 'stern',\n",
       " 'scops',\n",
       " 'crate',\n",
       " 'hines',\n",
       " 'graze',\n",
       " 'bract',\n",
       " 'peepy',\n",
       " 'degum',\n",
       " 'haifa',\n",
       " 'stuck',\n",
       " 'prima',\n",
       " 'satan',\n",
       " 'brain',\n",
       " 'swede',\n",
       " 'quirk',\n",
       " 'rosen',\n",
       " 'wrath',\n",
       " 'assam',\n",
       " 'byrne',\n",
       " 'franz',\n",
       " 'parry',\n",
       " 'dakar',\n",
       " 'dozen',\n",
       " 'moist',\n",
       " 'cross',\n",
       " 'troll',\n",
       " 'motel',\n",
       " 'facet',\n",
       " 'habit',\n",
       " 'louse',\n",
       " 'attic',\n",
       " 'raise',\n",
       " 'evans',\n",
       " 'phage',\n",
       " 'enemy',\n",
       " 'blitz',\n",
       " 'sword',\n",
       " 'husky',\n",
       " 'awful',\n",
       " 'sound',\n",
       " 'begun',\n",
       " 'beset',\n",
       " 'defer',\n",
       " 'straw',\n",
       " 'legal',\n",
       " 'riggs',\n",
       " 'boone',\n",
       " 'flood',\n",
       " 'trail',\n",
       " 'viper',\n",
       " \"can't\",\n",
       " 'trout',\n",
       " 'bough',\n",
       " 'tract',\n",
       " 'bruit',\n",
       " 'bible',\n",
       " 'scalp',\n",
       " 'bleat',\n",
       " 'apply',\n",
       " 'woman',\n",
       " 'elbow',\n",
       " 'wally',\n",
       " 'merry',\n",
       " 'kruse',\n",
       " 'folio',\n",
       " 'tidal',\n",
       " 'swing',\n",
       " 'axiom',\n",
       " 'glass',\n",
       " 'drawl',\n",
       " 'waldo',\n",
       " 'gnash',\n",
       " 'arson',\n",
       " 'feces',\n",
       " 'audit',\n",
       " 'huron',\n",
       " 'alvin',\n",
       " 'paulo',\n",
       " 'muong',\n",
       " 'gizmo',\n",
       " 'alter',\n",
       " 'frail',\n",
       " 'toast',\n",
       " 'leigh',\n",
       " 'stake',\n",
       " 'large',\n",
       " 'nitty',\n",
       " 'velar',\n",
       " 'lapel',\n",
       " 'stale',\n",
       " 'organ',\n",
       " 'adept',\n",
       " 'glove',\n",
       " 'mirth',\n",
       " 'every',\n",
       " 'berea',\n",
       " 'gutsy',\n",
       " 'dacca',\n",
       " 'cable',\n",
       " 'bland',\n",
       " 'rumen',\n",
       " 'lenin',\n",
       " 'adorn',\n",
       " 'draco',\n",
       " 'scour',\n",
       " 'idyll',\n",
       " 'shako',\n",
       " 'saran',\n",
       " 'ether',\n",
       " 'munch',\n",
       " 'crook',\n",
       " 'magog',\n",
       " 'valve',\n",
       " 'spasm',\n",
       " 'vichy',\n",
       " 'candy',\n",
       " 'bison',\n",
       " 'forth',\n",
       " 'bloch',\n",
       " 'eight',\n",
       " 'owlet',\n",
       " 'dying',\n",
       " 'rotor',\n",
       " 'gummy',\n",
       " 'force',\n",
       " 'morse',\n",
       " 'tunic',\n",
       " 'karen',\n",
       " 'kiowa',\n",
       " 'creek',\n",
       " 'buzzy',\n",
       " 'essex',\n",
       " 'diety',\n",
       " 'bossy',\n",
       " 'climb',\n",
       " 'kapok',\n",
       " 'midge',\n",
       " 'rummy',\n",
       " 'corey',\n",
       " 'water',\n",
       " 'eaton',\n",
       " 'spray',\n",
       " 'cheek',\n",
       " 'alamo',\n",
       " 'lange',\n",
       " 'spook',\n",
       " 'smash',\n",
       " 'mound',\n",
       " 'eliot',\n",
       " 'labia',\n",
       " 'whine',\n",
       " 'brisk',\n",
       " 'porto',\n",
       " 'huber',\n",
       " 'weedy',\n",
       " 'usurp',\n",
       " 'agnes',\n",
       " 'snuff',\n",
       " 'salon',\n",
       " 'moser',\n",
       " 'minos',\n",
       " 'devon',\n",
       " 'grail',\n",
       " 'amity',\n",
       " 'knurl',\n",
       " 'stank',\n",
       " 'estop',\n",
       " 'kajar',\n",
       " 'order',\n",
       " 'ceres',\n",
       " 'hurty',\n",
       " 'quito',\n",
       " 'bumpy',\n",
       " 'gauss',\n",
       " 'reich',\n",
       " 'pluto',\n",
       " 'pious',\n",
       " 'squaw',\n",
       " 'dairy',\n",
       " 'panty',\n",
       " 'scant',\n",
       " 'lurch',\n",
       " 'spice',\n",
       " 'joust',\n",
       " 'depth',\n",
       " 'lipid',\n",
       " 'fancy',\n",
       " 'calla',\n",
       " 'often',\n",
       " 'circa',\n",
       " 'shelf',\n",
       " 'petal',\n",
       " 'emile',\n",
       " 'aspen',\n",
       " 'epoxy',\n",
       " 'crisp',\n",
       " 'soggy',\n",
       " 'tying',\n",
       " 'carib',\n",
       " 'lorry',\n",
       " 'limit',\n",
       " 'james',\n",
       " 'admix',\n",
       " 'rabbi',\n",
       " 'decry',\n",
       " 'seoul',\n",
       " 'crime',\n",
       " 'lares',\n",
       " 'cohen',\n",
       " 'prick',\n",
       " 'deane',\n",
       " 'sinew',\n",
       " 'vella',\n",
       " 'troff',\n",
       " 'seedy',\n",
       " 'gates',\n",
       " 'tioga',\n",
       " 'would',\n",
       " 'wreak',\n",
       " 'clint',\n",
       " 'sheer',\n",
       " 'diary',\n",
       " 'piggy',\n",
       " 'rubin',\n",
       " 'venom',\n",
       " 'stave',\n",
       " 'bezel',\n",
       " 'vicky',\n",
       " 'dolan',\n",
       " 'mercy',\n",
       " 'regal',\n",
       " 'rusty',\n",
       " 'jiffy',\n",
       " 'cramp',\n",
       " 'equal',\n",
       " 'metal',\n",
       " 'flyer',\n",
       " 'wolve',\n",
       " 'butte',\n",
       " 'count',\n",
       " 'cloth',\n",
       " 'beefy',\n",
       " 'qatar',\n",
       " 'phyla',\n",
       " 'funky',\n",
       " 'tinge',\n",
       " 'polka',\n",
       " 'total',\n",
       " 'alton',\n",
       " 'drape',\n",
       " 'carla',\n",
       " 'amend',\n",
       " 'billy',\n",
       " 'truck',\n",
       " 'thine',\n",
       " \"he'll\",\n",
       " 'freud',\n",
       " 'sooth',\n",
       " 'golly',\n",
       " 'ghana',\n",
       " 'agony',\n",
       " 'rough',\n",
       " 'nurse',\n",
       " 'pobox',\n",
       " 'cubby',\n",
       " 'gouda',\n",
       " 'holly',\n",
       " 'tacky',\n",
       " 'under',\n",
       " 'slump',\n",
       " 'minsk',\n",
       " 'ebony',\n",
       " 'widow',\n",
       " 'fugue',\n",
       " 'radix',\n",
       " 'pound',\n",
       " 'alger',\n",
       " 'anent',\n",
       " 'crude',\n",
       " 'elegy',\n",
       " 'burma',\n",
       " 'amman',\n",
       " 'rhyme',\n",
       " 'width',\n",
       " 'sonar',\n",
       " 'spoke',\n",
       " 'brave',\n",
       " 'lathe',\n",
       " 'poole',\n",
       " 'ruben',\n",
       " 'vicar',\n",
       " 'board',\n",
       " 'gumbo']"
      ]
     },
     "execution_count": 23,
     "metadata": {},
     "output_type": "execute_result"
    }
   ],
   "source": [
    "# TO play wordle\n",
    "import random\n",
    "AnswerBank=random.sample(Bank, 300)\n",
    "AnswerBank\n",
    "    "
   ]
  },
  {
   "cell_type": "markdown",
   "metadata": {},
   "source": [
    "Slate"
   ]
  },
  {
   "cell_type": "code",
   "execution_count": 24,
   "metadata": {},
   "outputs": [
    {
     "name": "stderr",
     "output_type": "stream",
     "text": [
      "100% |########################################################################|\r"
     ]
    },
    {
     "name": "stdout",
     "output_type": "stream",
     "text": [
      "4.296666666666667\n"
     ]
    },
    {
     "name": "stderr",
     "output_type": "stream",
     "text": [
      "\n"
     ]
    }
   ],
   "source": [
    "tries=0\n",
    "Graph=[]\n",
    "for i in pbar(range(300)):\n",
    "    t=play_wordle('slate', AnswerBank[i], Bank)\n",
    "    tries+=t\n",
    "    Graph.append(t)\n",
    "    \n",
    "tries=tries/300\n",
    "print(tries)"
   ]
  },
  {
   "cell_type": "markdown",
   "metadata": {},
   "source": [
    "Arose"
   ]
  },
  {
   "cell_type": "code",
   "execution_count": 25,
   "metadata": {},
   "outputs": [
    {
     "name": "stderr",
     "output_type": "stream",
     "text": [
      "100% |########################################################################|\r"
     ]
    },
    {
     "name": "stdout",
     "output_type": "stream",
     "text": [
      "4.3133333333333335\n"
     ]
    },
    {
     "name": "stderr",
     "output_type": "stream",
     "text": [
      "\n"
     ]
    }
   ],
   "source": [
    "pbar = ProgressBar()\n",
    "tries1=0\n",
    "Graph1=[]\n",
    "for i in pbar(range(300)):\n",
    "    t1=play_wordle('arose', AnswerBank[i], Bank)\n",
    "    tries1+=t1\n",
    "    Graph1.append(t1)\n",
    "tries1=tries1/300\n",
    "print(tries1)\n",
    " "
   ]
  },
  {
   "cell_type": "markdown",
   "metadata": {},
   "source": [
    "Raise"
   ]
  },
  {
   "cell_type": "code",
   "execution_count": 26,
   "metadata": {},
   "outputs": [
    {
     "name": "stderr",
     "output_type": "stream",
     "text": [
      "100% |########################################################################|\r"
     ]
    },
    {
     "name": "stdout",
     "output_type": "stream",
     "text": [
      "4.3533333333333335\n"
     ]
    },
    {
     "name": "stderr",
     "output_type": "stream",
     "text": [
      "\n"
     ]
    }
   ],
   "source": [
    "pbar = ProgressBar()\n",
    "tries2=0\n",
    "Graph2=[]\n",
    "for i in pbar(range(300)):\n",
    "    t2=play_wordle('raise', AnswerBank[i], Bank)\n",
    "    tries2+=t2\n",
    "    Graph2.append(t2)\n",
    "tries2=tries2/300\n",
    "print(tries2)"
   ]
  },
  {
   "cell_type": "code",
   "execution_count": 27,
   "metadata": {},
   "outputs": [
    {
     "data": {
      "image/png": "[encoded data removed]",
      "text/plain": [
       "<Figure size 432x288 with 1 Axes>"
      ]
     },
     "metadata": {
      "needs_background": "light"
     },
     "output_type": "display_data"
    }
   ],
   "source": [
    "import matplotlib.pyplot as plt\n",
    "plt.hist(Graph,bins=30)\n",
    "plt.ylabel('Count')\n",
    "plt.xlabel('Number of Gusses');"
   ]
  },
  {
   "cell_type": "code",
   "execution_count": 28,
   "metadata": {},
   "outputs": [
    {
     "data": {
      "image/png": "[encoded data removed]",
      "text/plain": [
       "<Figure size 432x288 with 1 Axes>"
      ]
     },
     "metadata": {
      "needs_background": "light"
     },
     "output_type": "display_data"
    }
   ],
   "source": [
    "import matplotlib.pyplot as plt\n",
    "plt.hist(Graph1,bins=30)\n",
    "plt.ylabel('Count')\n",
    "plt.xlabel('Number of Gusses');"
   ]
  },
  {
   "cell_type": "code",
   "execution_count": 29,
   "metadata": {},
   "outputs": [
    {
     "data": {
      "image/png": "[encoded data removed]",
      "text/plain": [
       "<Figure size 432x288 with 1 Axes>"
      ]
     },
     "metadata": {
      "needs_background": "light"
     },
     "output_type": "display_data"
    }
   ],
   "source": [
    "import matplotlib.pyplot as plt\n",
    "plt.hist(Graph2,bins=30)\n",
    "plt.ylabel('Count')\n",
    "plt.xlabel('Number of Gusses');"
   ]
  },
  {
   "cell_type": "code",
   "execution_count": 30,
   "metadata": {},
   "outputs": [
    {
     "data": {
      "text/plain": [
       "00000    283\n",
       "00Y00    251\n",
       "0000Y    197\n",
       "0000G    157\n",
       "0YY00    103\n",
       "        ... \n",
       "G0YGG      1\n",
       "G0YGY      1\n",
       "GYYYY      1\n",
       "GGY00      1\n",
       "YYGYY      1\n",
       "Name: Entropy, Length: 160, dtype: int64"
      ]
     },
     "execution_count": 30,
     "metadata": {},
     "output_type": "execute_result"
    }
   ],
   "source": [
    "    X=Bank\n",
    "    entropy = {'Entropy':[0]*len(X)}\n",
    "    dfentropy = pd.DataFrame(entropy, index=X)\n",
    "    for i in range(len(X)):\n",
    "        dfentropy.iloc[i]=compare('slate', X[i])\n",
    "    occurance=dfentropy['Entropy'].value_counts()\n",
    "    occurance"
   ]
  },
  {
   "cell_type": "code",
   "execution_count": null,
   "metadata": {},
   "outputs": [],
   "source": []
  }
 ],
 "metadata": {
  "kernelspec": {
   "display_name": "Python 3",
   "language": "python",
   "name": "python3"
  },
  "language_info": {
   "codemirror_mode": {
    "name": "ipython",
    "version": 3
   },
   "file_extension": ".py",
   "mimetype": "text/x-python",
   "name": "python",
   "nbconvert_exporter": "python",
   "pygments_lexer": "ipython3",
   "version": "3.8.5"
  }
 },
 "nbformat": 4,
 "nbformat_minor": 4
}
